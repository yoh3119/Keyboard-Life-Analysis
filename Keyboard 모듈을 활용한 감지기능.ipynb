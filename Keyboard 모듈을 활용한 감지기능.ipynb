{
 "cells": [
  {
   "cell_type": "code",
   "execution_count": 7,
   "id": "6d91ae75",
   "metadata": {},
   "outputs": [],
   "source": [
    "#pip3 install keyboard"
   ]
  },
  {
   "cell_type": "code",
   "execution_count": null,
   "id": "370983c2",
   "metadata": {},
   "outputs": [],
   "source": [
    "import keyboard\n",
    "\n",
    "while True:\n",
    "    if keyboard.read_key() == \"p\":\n",
    "        print(\"You pressed p\")\n",
    "        break\n",
    "\n",
    "while True:\n",
    "    if keyboard.is_pressed(\"q\"):\n",
    "        print(\"You pressed q\")\n",
    "        break\n",
    "        \n",
    "keyboard.on_press_key(\"r\", lambda _:print(\"You pressed r\"))"
   ]
  },
  {
   "cell_type": "code",
   "execution_count": null,
   "id": "17ee1a4c",
   "metadata": {},
   "outputs": [],
   "source": [
    "#출력값\n",
    "You pressed p\n",
    "You pressed q\n",
    "You pressed r"
   ]
  },
  {
   "cell_type": "code",
   "execution_count": 6,
   "id": "b7566351",
   "metadata": {},
   "outputs": [],
   "source": [
    "#pip3 install pynput"
   ]
  },
  {
   "cell_type": "code",
   "execution_count": null,
   "id": "6881ecc3",
   "metadata": {},
   "outputs": [],
   "source": [
    "from pynput import keyboard\n",
    "\n",
    "def on_press(key):\n",
    "    try:\n",
    "        print('Alphanumeric key pressed: {0} '.format(\n",
    "            key.char))\n",
    "    except AttributeError:\n",
    "        print('special key pressed: {0}'.format(\n",
    "            key))\n",
    "\n",
    "def on_release(key):\n",
    "    print('Key released: {0}'.format(\n",
    "        key))\n",
    "    if key == keyboard.Key.esc:\n",
    "        # Stop listener\n",
    "        return False\n",
    "\n",
    "# Collect events until released\n",
    "with keyboard.Listener(\n",
    "        on_press=on_press,\n",
    "        on_release=on_release) as listener:\n",
    "    listener.join()"
   ]
  },
  {
   "cell_type": "code",
   "execution_count": null,
   "id": "95c52d08",
   "metadata": {},
   "outputs": [],
   "source": [
    "#출력값\n",
    "Alphanumeric key pressed: a \n",
    "Key released: 'a' \n",
    "Alphanumeric key pressed: b\n",
    "Key released: 'b'\n",
    "special key pressed: Key.ctrl_l \n",
    "Key released: Key.ctrl_l"
   ]
  }
 ],
 "metadata": {
  "kernelspec": {
   "display_name": "Python 3 (ipykernel)",
   "language": "python",
   "name": "python3"
  },
  "language_info": {
   "codemirror_mode": {
    "name": "ipython",
    "version": 3
   },
   "file_extension": ".py",
   "mimetype": "text/x-python",
   "name": "python",
   "nbconvert_exporter": "python",
   "pygments_lexer": "ipython3",
   "version": "3.9.7"
  }
 },
 "nbformat": 4,
 "nbformat_minor": 5
}
