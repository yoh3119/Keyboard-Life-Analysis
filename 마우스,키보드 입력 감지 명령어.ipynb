{
 "cells": [
  {
   "cell_type": "code",
   "execution_count": null,
   "id": "991f6242",
   "metadata": {},
   "outputs": [],
   "source": [
    "from __future__ import print_function\n",
    "import pyWinhook as pyHook\n",
    "\n",
    "def OnMouseEvent(event):\n",
    "  print('MessageName: %s' % event.MessageName)\n",
    "  print('Message: %s' % event.Message)\n",
    "  print('Time: %s' % event.Time)\n",
    "  print('Window: %s' % event.Window)\n",
    "  print('WindowName: %s' % event.WindowName)\n",
    "  print('Position: (%d, %d)' % event.Position)\n",
    "  print('Wheel: %s' % event.Wheel)\n",
    "  print('Injected: %s' % event.Injected)\n",
    "  print('---')\n",
    "\n",
    "  # return True to pass the event to other handlers\n",
    "  # return False to stop the event from propagating\n",
    "  return True\n",
    "\n",
    "def OnKeyboardEvent(event):\n",
    "  print('MessageName: %s' % event.MessageName)\n",
    "  print('Message: %s' % event.Message)\n",
    "  print('Time: %s' % event.Time)\n",
    "  print('Window: %s' % event.Window)\n",
    "  print('WindowName: %s' % event.WindowName)\n",
    "  print('Ascii: %s' %  event.Ascii, chr(event.Ascii))\n",
    "  print('Key: %s' %  event.Key)\n",
    "  print('KeyID: %s' %  event.KeyID)\n",
    "  print('ScanCode: %s' %  event.ScanCode)\n",
    "  print('Extended: %s' %  event.Extended)\n",
    "  print('Injected: %s' %  event.Injected)\n",
    "  print('Alt %s' %  event.Alt)\n",
    "  print('Transition %s' %  event.Transition)\n",
    "  print('---')\n",
    "\n",
    "  # return True to pass the event to other handlers\n",
    "  # return False to stop the event from propagating\n",
    "  return True\n",
    "\n",
    "# create the hook mananger\n",
    "hm = pyHook.HookManager()\n",
    "# register two callbacks\n",
    "hm.MouseAllButtonsDown = OnMouseEvent\n",
    "hm.KeyDown = OnKeyboardEvent\n",
    "\n",
    "# hook into the mouse and keyboard events\n",
    "hm.HookMouse()\n",
    "hm.HookKeyboard()\n",
    "\n",
    "if __name__ == '__main__':\n",
    "  import pythoncom\n",
    "  pythoncom.PumpMessages()"
   ]
  }
 ],
 "metadata": {
  "kernelspec": {
   "display_name": "Python 3 (ipykernel)",
   "language": "python",
   "name": "python3"
  },
  "language_info": {
   "codemirror_mode": {
    "name": "ipython",
    "version": 3
   },
   "file_extension": ".py",
   "mimetype": "text/x-python",
   "name": "python",
   "nbconvert_exporter": "python",
   "pygments_lexer": "ipython3",
   "version": "3.9.7"
  }
 },
 "nbformat": 4,
 "nbformat_minor": 5
}
