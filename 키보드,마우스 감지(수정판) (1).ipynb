{
 "cells": [
  {
   "cell_type": "code",
   "execution_count": 1,
   "id": "298c0790",
   "metadata": {
    "scrolled": false
   },
   "outputs": [
    {
     "ename": "ModuleNotFoundError",
     "evalue": "No module named 'pyWinhook'",
     "output_type": "error",
     "traceback": [
      "\u001b[1;31m---------------------------------------------------------------------------\u001b[0m",
      "\u001b[1;31mModuleNotFoundError\u001b[0m                       Traceback (most recent call last)",
      "\u001b[1;32m~\\AppData\\Local\\Temp/ipykernel_10196/757406828.py\u001b[0m in \u001b[0;36m<module>\u001b[1;34m\u001b[0m\n\u001b[0;32m      1\u001b[0m \u001b[1;32mfrom\u001b[0m \u001b[0m__future__\u001b[0m \u001b[1;32mimport\u001b[0m \u001b[0mprint_function\u001b[0m\u001b[1;33m\u001b[0m\u001b[1;33m\u001b[0m\u001b[0m\n\u001b[1;32m----> 2\u001b[1;33m \u001b[1;32mimport\u001b[0m \u001b[0mpyWinhook\u001b[0m \u001b[1;32mas\u001b[0m \u001b[0mpyHook\u001b[0m\u001b[1;33m\u001b[0m\u001b[1;33m\u001b[0m\u001b[0m\n\u001b[0m\u001b[0;32m      3\u001b[0m \u001b[1;33m\u001b[0m\u001b[0m\n\u001b[0;32m      4\u001b[0m \u001b[0mdata\u001b[0m \u001b[1;33m=\u001b[0m \u001b[1;33m{\u001b[0m\u001b[1;33m}\u001b[0m\u001b[1;33m\u001b[0m\u001b[1;33m\u001b[0m\u001b[0m\n\u001b[0;32m      5\u001b[0m \u001b[1;33m\u001b[0m\u001b[0m\n",
      "\u001b[1;31mModuleNotFoundError\u001b[0m: No module named 'pyWinhook'"
     ]
    }
   ],
   "source": [
    "from __future__ import print_function\n",
    "import pyWinhook as pyHook\n",
    "\n",
    "data = {}\n",
    "\n",
    "def addInput(input):\n",
    "    if input in data.keys():     # 입력하는 키에 대해서\n",
    "        data[f\"{input}\"] += 1    #기존에 입력한 키를 입력한 경우 +1을 추가\n",
    "    else:\n",
    "        data[f\"{input}\"] = 1     #그렇지 않을 경우 새로운 정의를 내림\n",
    "\n",
    "def OnMouseEvent(event):         #마우스 입력\n",
    "  addInput(event.MessageName)\n",
    "  print(event.MessageName)       #마우스 클릭 위치 출력\n",
    "  print(event.WindowName)        #마우스를 어느 곳에서 출력하는지 인지 및 출력\n",
    "  print('---')\n",
    "\n",
    "  # return True to pass the event to other handlers\n",
    "  # return False to stop the event from propagating\n",
    "  return True\n",
    "\n",
    "def OnKeyboardEvent(event):      #키보드 입력\n",
    "  if event.Key == \"G\":           #키보드의 \"G\"키를 눌렀을 때 입력 정보 출력\n",
    "     print(data)\n",
    "  print(event.WindowName)        #키를 입력한 경로 출력\n",
    "  print(event.Key)               #입력한 키 출력\n",
    "  addInput(event.Key)  \n",
    "  print('---')\n",
    "\n",
    "  # return True to pass the event to other handlers\n",
    "  # return False to stop the event from propagating\n",
    "  return True\n",
    "\n",
    "# create the hook mananger\n",
    "hm = pyHook.HookManager()\n",
    "# register two callbacks\n",
    "hm.MouseAllButtonsDown = OnMouseEvent\n",
    "hm.KeyDown = OnKeyboardEvent\n",
    "\n",
    "# hook into the mouse and keyboard events\n",
    "hm.HookMouse()\n",
    "hm.HookKeyboard()\n",
    "\n",
    "if __name__ == '__main__':\n",
    "  import pythoncom\n",
    "  pythoncom.PumpMessages()"
   ]
  },
  {
   "cell_type": "code",
   "execution_count": null,
   "id": "3f3c2fc5",
   "metadata": {},
   "outputs": [],
   "source": [
    "print(data)"
   ]
  }
 ],
 "metadata": {
  "kernelspec": {
   "display_name": "Python 3 (ipykernel)",
   "language": "python",
   "name": "python3"
  },
  "language_info": {
   "codemirror_mode": {
    "name": "ipython",
    "version": 3
   },
   "file_extension": ".py",
   "mimetype": "text/x-python",
   "name": "python",
   "nbconvert_exporter": "python",
   "pygments_lexer": "ipython3",
   "version": "3.9.7"
  }
 },
 "nbformat": 4,
 "nbformat_minor": 5
}
