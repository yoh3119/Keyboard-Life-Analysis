{
 "cells": [
  {
   "cell_type": "code",
   "execution_count": 36,
   "id": "d25059b8",
   "metadata": {},
   "outputs": [
    {
     "name": "stdout",
     "output_type": "stream",
     "text": [
      "입력 받음 : mouse left down ******\n",
      "입력 받음 : H               *\n",
      "입력 받음 : Escape          *\n",
      "입력 받음 : Capital         *\n",
      "입력 받음 : I               *\n"
     ]
    }
   ],
   "source": [
    "Keyboard_data = {\"mouse left down\": 6, \"H\": 1, \"Escape\": 1, \"Capital\": 1, \"I\": 1} #키보드(마우스)입력 데이터를 불러옴\n",
    "for i in Keyboard_data.keys(): #입력 데이터 값을 i로 정의\n",
    "    print(f\"입력 받음 : {i:15}\", \"*\"*Keyboard_data[i]) #입력받은 키는 f-string 함수에 의해 정렬되어 출력 i의 값을 정해 \"*\"줄을 맞춤"
   ]
  },
  {
   "cell_type": "code",
   "execution_count": null,
   "id": "c22597ce",
   "metadata": {},
   "outputs": [],
   "source": []
  }
 ],
 "metadata": {
  "kernelspec": {
   "display_name": "Python 3 (ipykernel)",
   "language": "python",
   "name": "python3"
  },
  "language_info": {
   "codemirror_mode": {
    "name": "ipython",
    "version": 3
   },
   "file_extension": ".py",
   "mimetype": "text/x-python",
   "name": "python",
   "nbconvert_exporter": "python",
   "pygments_lexer": "ipython3",
   "version": "3.9.7"
  }
 },
 "nbformat": 4,
 "nbformat_minor": 5
}
